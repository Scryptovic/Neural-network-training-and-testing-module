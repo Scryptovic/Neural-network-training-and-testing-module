{
  "nbformat": 4,
  "nbformat_minor": 0,
  "metadata": {
    "colab": {
      "provenance": []
    },
    "kernelspec": {
      "name": "python3",
      "display_name": "Python 3"
    },
    "language_info": {
      "name": "python"
    }
  },
  "cells": [
    {
      "cell_type": "markdown",
      "source": [
        "# Neural network module"
      ],
      "metadata": {
        "id": "gj7CBUhLq7GE"
      }
    },
    {
      "cell_type": "markdown",
      "source": [
        "**Подключим библиотеки и создадим модель нейросети с помощью фреймворка tensorflow**"
      ],
      "metadata": {
        "id": "5vxDDfPTMi38"
      }
    },
    {
      "cell_type": "code",
      "execution_count": 113,
      "metadata": {
        "id": "lBKElWlVq1v1"
      },
      "outputs": [],
      "source": [
        "import numpy as np\n",
        "import tensorflow as tf\n",
        "import pandas as pd\n",
        "import csv\n",
        "from tensorflow.keras.datasets import mnist\n",
        "\n",
        "def create_model():\n",
        "    model = tf.keras.Sequential([\n",
        "        tf.keras.layers.Flatten(input_shape=(28, 28)),\n",
        "        tf.keras.layers.Dense(117, activation='relu'),\n",
        "        tf.keras.layers.Dense(117, activation='relu'),\n",
        "        tf.keras.layers.Dense(10, activation='softmax')\n",
        "    ])\n",
        "    return model\n",
        "\n",
        "\n",
        "model = create_model()"
      ]
    },
    {
      "cell_type": "markdown",
      "source": [
        "**Загрузим граф связей и уберем индивидуальные номера агентов**"
      ],
      "metadata": {
        "id": "8_TQch4-uzpp"
      }
    },
    {
      "cell_type": "code",
      "source": [
        "matrix_np = np.genfromtxt('matrix.csv', delimiter=';', dtype=str)\n",
        "\n",
        "first_column = matrix_np[:, 0]\n",
        "matrix_np = matrix_np[:, 1:]\n",
        "\n",
        "\n",
        "first_row = matrix_np[0]\n",
        "matrix_np = matrix_np[1:, :]\n",
        "matrix_np = np.array(matrix_np, dtype=float)"
      ],
      "metadata": {
        "id": "SDnKtcX4rh3H"
      },
      "execution_count": 114,
      "outputs": []
    },
    {
      "cell_type": "markdown",
      "source": [
        "**Выгрузим веса нейронной сети**"
      ],
      "metadata": {
        "id": "PRSsul-nvAp6"
      }
    },
    {
      "cell_type": "code",
      "source": [
        "weights = model.get_weights()"
      ],
      "metadata": {
        "id": "HZOpGusOQUoN"
      },
      "execution_count": 115,
      "outputs": []
    },
    {
      "cell_type": "code",
      "source": [
        "weights"
      ],
      "metadata": {
        "id": "_DXudGYNQggg",
        "outputId": "cb76732c-27f9-4621-db77-3f5e3ff766a9",
        "colab": {
          "base_uri": "https://localhost:8080/"
        }
      },
      "execution_count": 116,
      "outputs": [
        {
          "output_type": "execute_result",
          "data": {
            "text/plain": [
              "[array([[ 0.05484433,  0.0456527 ,  0.07181188, ..., -0.07716963,\n",
              "         -0.01874546, -0.07272219],\n",
              "        [-0.06742979,  0.06026493, -0.03481499, ..., -0.07238539,\n",
              "         -0.06930083, -0.0659451 ],\n",
              "        [ 0.04617852, -0.04381693, -0.02412068, ..., -0.0082428 ,\n",
              "          0.05306518, -0.01036366],\n",
              "        ...,\n",
              "        [-0.02722652,  0.06960933, -0.00119185, ..., -0.00143982,\n",
              "          0.03527859,  0.02962894],\n",
              "        [ 0.03348115, -0.00026061,  0.01867969, ...,  0.00274567,\n",
              "         -0.03884159,  0.03442681],\n",
              "        [-0.01170427, -0.0421801 , -0.00545777, ..., -0.01719164,\n",
              "          0.02835767,  0.01623394]], dtype=float32),\n",
              " array([0., 0., 0., 0., 0., 0., 0., 0., 0., 0., 0., 0., 0., 0., 0., 0., 0.,\n",
              "        0., 0., 0., 0., 0., 0., 0., 0., 0., 0., 0., 0., 0., 0., 0., 0., 0.,\n",
              "        0., 0., 0., 0., 0., 0., 0., 0., 0., 0., 0., 0., 0., 0., 0., 0., 0.,\n",
              "        0., 0., 0., 0., 0., 0., 0., 0., 0., 0., 0., 0., 0., 0., 0., 0., 0.,\n",
              "        0., 0., 0., 0., 0., 0., 0., 0., 0., 0., 0., 0., 0., 0., 0., 0., 0.,\n",
              "        0., 0., 0., 0., 0., 0., 0., 0., 0., 0., 0., 0., 0., 0., 0., 0., 0.,\n",
              "        0., 0., 0., 0., 0., 0., 0., 0., 0., 0., 0., 0., 0., 0., 0.],\n",
              "       dtype=float32),\n",
              " array([[ 0.1446509 , -0.11965764,  0.14663246, ..., -0.12310901,\n",
              "         -0.14500794, -0.11739383],\n",
              "        [-0.01495689, -0.10483625,  0.14212966, ...,  0.08560172,\n",
              "          0.14678106,  0.08219071],\n",
              "        [ 0.12303731, -0.08125911,  0.05253808, ..., -0.00289905,\n",
              "          0.12742352,  0.06082505],\n",
              "        ...,\n",
              "        [-0.07561089, -0.00956485, -0.0846952 , ...,  0.00040838,\n",
              "         -0.14611493, -0.07477485],\n",
              "        [-0.09705953,  0.11390552,  0.13051343, ..., -0.15517388,\n",
              "          0.14503506,  0.0452482 ],\n",
              "        [ 0.07214178, -0.1264797 , -0.03142339, ...,  0.13606161,\n",
              "         -0.11964527,  0.10500064]], dtype=float32),\n",
              " array([0., 0., 0., 0., 0., 0., 0., 0., 0., 0., 0., 0., 0., 0., 0., 0., 0.,\n",
              "        0., 0., 0., 0., 0., 0., 0., 0., 0., 0., 0., 0., 0., 0., 0., 0., 0.,\n",
              "        0., 0., 0., 0., 0., 0., 0., 0., 0., 0., 0., 0., 0., 0., 0., 0., 0.,\n",
              "        0., 0., 0., 0., 0., 0., 0., 0., 0., 0., 0., 0., 0., 0., 0., 0., 0.,\n",
              "        0., 0., 0., 0., 0., 0., 0., 0., 0., 0., 0., 0., 0., 0., 0., 0., 0.,\n",
              "        0., 0., 0., 0., 0., 0., 0., 0., 0., 0., 0., 0., 0., 0., 0., 0., 0.,\n",
              "        0., 0., 0., 0., 0., 0., 0., 0., 0., 0., 0., 0., 0., 0., 0.],\n",
              "       dtype=float32),\n",
              " array([[ 0.16563088, -0.17663822, -0.17706612, ...,  0.02146165,\n",
              "          0.21004054,  0.05290028],\n",
              "        [ 0.21446255,  0.17327124,  0.18241176, ..., -0.10559321,\n",
              "          0.11138743, -0.08418716],\n",
              "        [ 0.13400492, -0.15015289, -0.00291094, ...,  0.01577611,\n",
              "         -0.07726219,  0.16505015],\n",
              "        ...,\n",
              "        [ 0.1929552 ,  0.20964286, -0.10881089, ..., -0.08742298,\n",
              "         -0.11644105, -0.11312999],\n",
              "        [ 0.00303641,  0.10603192,  0.157545  , ..., -0.11092709,\n",
              "          0.03006151,  0.03175002],\n",
              "        [-0.13416395,  0.09171358,  0.02917276, ...,  0.13510954,\n",
              "          0.06835064,  0.12731326]], dtype=float32),\n",
              " array([0., 0., 0., 0., 0., 0., 0., 0., 0., 0.], dtype=float32)]"
            ]
          },
          "metadata": {},
          "execution_count": 116
        }
      ]
    },
    {
      "cell_type": "markdown",
      "source": [
        "**Загрузим граф связей в качестве весов между 2 скрытыми слоями и посмотрим на обновленные веса**"
      ],
      "metadata": {
        "id": "Kp5s3R--vJkq"
      }
    },
    {
      "cell_type": "code",
      "source": [
        "weights = matrix_np\n",
        "\n",
        "model.layers[2].set_weights([weights, np.zeros(117, dtype=np.float32)])\n",
        "\n",
        "\n",
        "model.compile(optimizer='adam',\n",
        "              loss='sparse_categorical_crossentropy',\n",
        "              metrics=['accuracy'])"
      ],
      "metadata": {
        "id": "IuaiyFzHR71q"
      },
      "execution_count": 117,
      "outputs": []
    },
    {
      "cell_type": "code",
      "source": [
        "weights = model.get_weights()\n",
        "weights"
      ],
      "metadata": {
        "id": "xDTACc9bSLJq",
        "outputId": "f73ea9e5-6dad-4468-c897-61497f198d7f",
        "colab": {
          "base_uri": "https://localhost:8080/"
        }
      },
      "execution_count": 118,
      "outputs": [
        {
          "output_type": "execute_result",
          "data": {
            "text/plain": [
              "[array([[ 0.05484433,  0.0456527 ,  0.07181188, ..., -0.07716963,\n",
              "         -0.01874546, -0.07272219],\n",
              "        [-0.06742979,  0.06026493, -0.03481499, ..., -0.07238539,\n",
              "         -0.06930083, -0.0659451 ],\n",
              "        [ 0.04617852, -0.04381693, -0.02412068, ..., -0.0082428 ,\n",
              "          0.05306518, -0.01036366],\n",
              "        ...,\n",
              "        [-0.02722652,  0.06960933, -0.00119185, ..., -0.00143982,\n",
              "          0.03527859,  0.02962894],\n",
              "        [ 0.03348115, -0.00026061,  0.01867969, ...,  0.00274567,\n",
              "         -0.03884159,  0.03442681],\n",
              "        [-0.01170427, -0.0421801 , -0.00545777, ..., -0.01719164,\n",
              "          0.02835767,  0.01623394]], dtype=float32),\n",
              " array([0., 0., 0., 0., 0., 0., 0., 0., 0., 0., 0., 0., 0., 0., 0., 0., 0.,\n",
              "        0., 0., 0., 0., 0., 0., 0., 0., 0., 0., 0., 0., 0., 0., 0., 0., 0.,\n",
              "        0., 0., 0., 0., 0., 0., 0., 0., 0., 0., 0., 0., 0., 0., 0., 0., 0.,\n",
              "        0., 0., 0., 0., 0., 0., 0., 0., 0., 0., 0., 0., 0., 0., 0., 0., 0.,\n",
              "        0., 0., 0., 0., 0., 0., 0., 0., 0., 0., 0., 0., 0., 0., 0., 0., 0.,\n",
              "        0., 0., 0., 0., 0., 0., 0., 0., 0., 0., 0., 0., 0., 0., 0., 0., 0.,\n",
              "        0., 0., 0., 0., 0., 0., 0., 0., 0., 0., 0., 0., 0., 0., 0.],\n",
              "       dtype=float32),\n",
              " array([[0.0000000e+00, 0.0000000e+00, 3.0141087e-05, ..., 3.0923460e-04,\n",
              "         0.0000000e+00, 5.8723413e-07],\n",
              "        [0.0000000e+00, 0.0000000e+00, 3.9832208e-05, ..., 1.9210673e-04,\n",
              "         0.0000000e+00, 4.6022935e-05],\n",
              "        [3.0141087e-05, 3.9832208e-05, 0.0000000e+00, ..., 1.9432104e-05,\n",
              "         3.4296452e-05, 3.8077982e-04],\n",
              "        ...,\n",
              "        [3.0923460e-04, 1.9210673e-04, 1.9432104e-05, ..., 0.0000000e+00,\n",
              "         1.1133391e-04, 3.5529968e-08],\n",
              "        [0.0000000e+00, 0.0000000e+00, 3.4296452e-05, ..., 1.1133391e-04,\n",
              "         0.0000000e+00, 3.2568787e-05],\n",
              "        [5.8723413e-07, 4.6022935e-05, 3.8077982e-04, ..., 3.5529968e-08,\n",
              "         3.2568787e-05, 0.0000000e+00]], dtype=float32),\n",
              " array([0., 0., 0., 0., 0., 0., 0., 0., 0., 0., 0., 0., 0., 0., 0., 0., 0.,\n",
              "        0., 0., 0., 0., 0., 0., 0., 0., 0., 0., 0., 0., 0., 0., 0., 0., 0.,\n",
              "        0., 0., 0., 0., 0., 0., 0., 0., 0., 0., 0., 0., 0., 0., 0., 0., 0.,\n",
              "        0., 0., 0., 0., 0., 0., 0., 0., 0., 0., 0., 0., 0., 0., 0., 0., 0.,\n",
              "        0., 0., 0., 0., 0., 0., 0., 0., 0., 0., 0., 0., 0., 0., 0., 0., 0.,\n",
              "        0., 0., 0., 0., 0., 0., 0., 0., 0., 0., 0., 0., 0., 0., 0., 0., 0.,\n",
              "        0., 0., 0., 0., 0., 0., 0., 0., 0., 0., 0., 0., 0., 0., 0.],\n",
              "       dtype=float32),\n",
              " array([[ 0.16563088, -0.17663822, -0.17706612, ...,  0.02146165,\n",
              "          0.21004054,  0.05290028],\n",
              "        [ 0.21446255,  0.17327124,  0.18241176, ..., -0.10559321,\n",
              "          0.11138743, -0.08418716],\n",
              "        [ 0.13400492, -0.15015289, -0.00291094, ...,  0.01577611,\n",
              "         -0.07726219,  0.16505015],\n",
              "        ...,\n",
              "        [ 0.1929552 ,  0.20964286, -0.10881089, ..., -0.08742298,\n",
              "         -0.11644105, -0.11312999],\n",
              "        [ 0.00303641,  0.10603192,  0.157545  , ..., -0.11092709,\n",
              "          0.03006151,  0.03175002],\n",
              "        [-0.13416395,  0.09171358,  0.02917276, ...,  0.13510954,\n",
              "          0.06835064,  0.12731326]], dtype=float32),\n",
              " array([0., 0., 0., 0., 0., 0., 0., 0., 0., 0.], dtype=float32)]"
            ]
          },
          "metadata": {},
          "execution_count": 118
        }
      ]
    },
    {
      "cell_type": "markdown",
      "source": [
        "**Обучим модель с нашими весами и посмотрим на результат**"
      ],
      "metadata": {
        "id": "edLDWNR0vX_d"
      }
    },
    {
      "cell_type": "code",
      "source": [
        "\n",
        "(train_images, train_labels), (test_images, test_labels) = mnist.load_data()\n",
        "\n",
        "\n",
        "train_images = train_images / 255.0\n",
        "test_images = test_images / 255.0\n",
        "\n",
        "model.fit(train_images, train_labels, epochs=5, batch_size=32, validation_data=(test_images, test_labels))\n",
        "\n",
        "test_loss, test_accuracy = model.evaluate(test_images, test_labels)\n",
        "print('Test loss:', test_loss)\n",
        "print('Test accuracy:', test_accuracy)"
      ],
      "metadata": {
        "id": "B7Z6A7IXSdp7",
        "outputId": "d9a7ef1f-1486-4081-e248-545fcaac2f83",
        "colab": {
          "base_uri": "https://localhost:8080/"
        }
      },
      "execution_count": 119,
      "outputs": [
        {
          "output_type": "stream",
          "name": "stdout",
          "text": [
            "Epoch 1/5\n",
            "1875/1875 [==============================] - 8s 4ms/step - loss: 0.2297 - accuracy: 0.9319 - val_loss: 0.1152 - val_accuracy: 0.9648\n",
            "Epoch 2/5\n",
            "1875/1875 [==============================] - 7s 4ms/step - loss: 0.1001 - accuracy: 0.9690 - val_loss: 0.0914 - val_accuracy: 0.9717\n",
            "Epoch 3/5\n",
            "1875/1875 [==============================] - 6s 3ms/step - loss: 0.0691 - accuracy: 0.9782 - val_loss: 0.0996 - val_accuracy: 0.9700\n",
            "Epoch 4/5\n",
            "1875/1875 [==============================] - 7s 4ms/step - loss: 0.0542 - accuracy: 0.9828 - val_loss: 0.0904 - val_accuracy: 0.9736\n",
            "Epoch 5/5\n",
            "1875/1875 [==============================] - 6s 3ms/step - loss: 0.0423 - accuracy: 0.9858 - val_loss: 0.0882 - val_accuracy: 0.9744\n",
            "313/313 [==============================] - 1s 2ms/step - loss: 0.0882 - accuracy: 0.9744\n",
            "Test loss: 0.08816118538379669\n",
            "Test accuracy: 0.974399983882904\n"
          ]
        }
      ]
    },
    {
      "cell_type": "code",
      "source": [
        "weights = model.get_weights()\n",
        "weights"
      ],
      "metadata": {
        "id": "aqCjwK9-amjW",
        "outputId": "29020a08-bde6-43d5-a55c-4cc9b7a66e6c",
        "colab": {
          "base_uri": "https://localhost:8080/"
        }
      },
      "execution_count": 120,
      "outputs": [
        {
          "output_type": "execute_result",
          "data": {
            "text/plain": [
              "[array([[ 0.05484433,  0.0456527 ,  0.07181188, ..., -0.07716963,\n",
              "         -0.01874546, -0.07272219],\n",
              "        [-0.06742979,  0.06026493, -0.03481499, ..., -0.07238539,\n",
              "         -0.06930083, -0.0659451 ],\n",
              "        [ 0.04617852, -0.04381693, -0.02412068, ..., -0.0082428 ,\n",
              "          0.05306518, -0.01036366],\n",
              "        ...,\n",
              "        [-0.02722652,  0.06960933, -0.00119185, ..., -0.00143982,\n",
              "          0.03527859,  0.02962894],\n",
              "        [ 0.03348115, -0.00026061,  0.01867969, ...,  0.00274567,\n",
              "         -0.03884159,  0.03442681],\n",
              "        [-0.01170427, -0.0421801 , -0.00545777, ..., -0.01719164,\n",
              "          0.02835767,  0.01623394]], dtype=float32),\n",
              " array([-0.01252074, -0.00083633,  0.05282348, -0.08583482,  0.04318917,\n",
              "         0.00417375,  0.04101003, -0.04480871,  0.06994408, -0.03909237,\n",
              "         0.102182  ,  0.03832491,  0.06233877,  0.0211111 , -0.02502985,\n",
              "         0.10217434,  0.09407147,  0.06688452, -0.02377501, -0.01913572,\n",
              "        -0.06024082, -0.04656536, -0.05528095, -0.00684424,  0.14816695,\n",
              "        -0.069096  , -0.03352778,  0.06097992,  0.02184628,  0.02042167,\n",
              "        -0.04349101,  0.03248843,  0.09784693, -0.0244023 , -0.03344786,\n",
              "        -0.01099712,  0.00599994,  0.03209334,  0.14012702, -0.03070092,\n",
              "        -0.01216741,  0.00734236, -0.06342895,  0.05325757, -0.03660616,\n",
              "        -0.06352176,  0.0446916 ,  0.01016625,  0.01878043,  0.09112747,\n",
              "        -0.03715731, -0.01185787, -0.05257736, -0.07340021,  0.10360926,\n",
              "         0.11315203, -0.08760045,  0.09923229, -0.01518682, -0.06239219,\n",
              "        -0.00934722, -0.06057394, -0.00271978, -0.07692375,  0.00259108,\n",
              "        -0.01447203,  0.00595267,  0.03218902,  0.0072138 , -0.01156072,\n",
              "         0.14778414, -0.0328964 ,  0.00076813, -0.03363262,  0.07129446,\n",
              "         0.11468679, -0.00384766,  0.09800699,  0.02644147,  0.00478237,\n",
              "         0.09975077,  0.01564707,  0.11706261, -0.06008932, -0.01607768,\n",
              "        -0.05338931,  0.00456091,  0.00443612,  0.04331376,  0.04882781,\n",
              "         0.03109543,  0.0299106 ,  0.02520536, -0.04005551,  0.06269316,\n",
              "        -0.05993   ,  0.04440246, -0.00753399,  0.04755998,  0.05392121,\n",
              "        -0.02242474, -0.03122858, -0.03968977, -0.04990376,  0.07791016,\n",
              "         0.01293443,  0.01004115, -0.04591977, -0.01028662,  0.09803934,\n",
              "         0.04653331,  0.04595165, -0.00979185,  0.1278388 , -0.04749091,\n",
              "        -0.02430331, -0.02298528], dtype=float32),\n",
              " array([[ 1.0468649e-01, -8.1670746e-02,  7.3449008e-02, ...,\n",
              "          5.5578958e-02,  1.3385750e-01,  2.2942078e-01],\n",
              "        [ 1.4354382e-02, -4.1609667e-02, -4.1388635e-02, ...,\n",
              "         -5.8759108e-02,  1.6989338e-03,  6.2198486e-02],\n",
              "        [-4.7302768e-03,  4.1193943e-02,  2.7188689e-02, ...,\n",
              "         -2.4316633e-01,  8.0961913e-02,  7.2604582e-02],\n",
              "        ...,\n",
              "        [ 9.7066596e-02, -1.7348030e-01,  2.9152347e-04, ...,\n",
              "         -2.6333898e-02, -1.5347934e-01,  3.6753858e-03],\n",
              "        [ 7.5493507e-02, -1.6542940e-01,  2.2288229e-04, ...,\n",
              "         -6.7658879e-02, -5.7191283e-02,  2.4299942e-01],\n",
              "        [-9.2948914e-02,  3.2100081e-02,  9.1814443e-02, ...,\n",
              "          1.0777300e-01, -2.2766842e-02, -1.4284895e-01]], dtype=float32),\n",
              " array([ 0.10759135,  0.03178481, -0.01695653, -0.00600463, -0.02940013,\n",
              "         0.09171315, -0.04381203,  0.03675251, -0.06985416, -0.05040485,\n",
              "        -0.09289455, -0.00835001,  0.06140382, -0.01909828,  0.1275112 ,\n",
              "        -0.06825981,  0.10226837,  0.0539824 ,  0.0327586 ,  0.07959405,\n",
              "        -0.10752093, -0.00742737,  0.04048586,  0.12475418, -0.02160134,\n",
              "        -0.07447137,  0.07851463,  0.11493735, -0.03141045, -0.00342371,\n",
              "         0.15034617, -0.02751488, -0.0372433 ,  0.11660063,  0.04390122,\n",
              "         0.0457232 , -0.11796357,  0.04251571,  0.08776958, -0.10647462,\n",
              "        -0.09975059, -0.07610565, -0.06454337,  0.04926795,  0.01107271,\n",
              "        -0.09493521,  0.19951338, -0.03185536,  0.02783464,  0.03090653,\n",
              "         0.04241738, -0.11213465, -0.10073322, -0.00504024,  0.0761364 ,\n",
              "        -0.07030899,  0.10878918,  0.11706561,  0.0971869 ,  0.14907037,\n",
              "        -0.01768873,  0.04979932, -0.01515691,  0.06326324,  0.09256785,\n",
              "         0.0277881 , -0.06947105,  0.15385346,  0.03030037,  0.09717611,\n",
              "        -0.00669916,  0.00054994, -0.07579826, -0.01273045, -0.00641592,\n",
              "        -0.0302214 ,  0.03833109,  0.08933995, -0.04995772, -0.09224257,\n",
              "         0.00336017,  0.08704669,  0.08861768,  0.14060237, -0.06895449,\n",
              "         0.11486501,  0.03562139, -0.00187149, -0.02762408, -0.00600418,\n",
              "        -0.04512339,  0.02688047, -0.11066233, -0.01793541, -0.00183445,\n",
              "         0.10654492,  0.08030715,  0.03244302, -0.04766208, -0.0334452 ,\n",
              "        -0.06536212, -0.04740174, -0.09106137,  0.09364074, -0.02601725,\n",
              "        -0.07894635, -0.10628767, -0.04604951,  0.03992848,  0.00599521,\n",
              "        -0.11186468, -0.16015595, -0.04310332, -0.04019381, -0.12305801,\n",
              "         0.09511975,  0.05610271], dtype=float32),\n",
              " array([[ 0.13048404, -0.28413546, -0.20258723, ...,  0.08106297,\n",
              "          0.24571984,  0.05408533],\n",
              "        [ 0.18980187,  0.22482698,  0.20409326, ..., -0.25693145,\n",
              "          0.13724859, -0.1763777 ],\n",
              "        [ 0.1965103 , -0.34381935, -0.09044081, ...,  0.06809469,\n",
              "         -0.23609932,  0.19816095],\n",
              "        ...,\n",
              "        [ 0.3064929 ,  0.35514557, -0.02313208, ..., -0.1024973 ,\n",
              "         -0.33324757, -0.28910178],\n",
              "        [-0.28574845,  0.19844565,  0.12867567, ..., -0.16800888,\n",
              "          0.01822929,  0.08032344],\n",
              "        [-0.36256525,  0.04670636, -0.01315858, ...,  0.14288948,\n",
              "          0.12781733,  0.14987682]], dtype=float32),\n",
              " array([-0.06397756, -0.07893808, -0.01279879, -0.0557516 ,  0.02475596,\n",
              "         0.02895075, -0.07876766, -0.07561424,  0.194299  ,  0.02275964],\n",
              "       dtype=float32)]"
            ]
          },
          "metadata": {},
          "execution_count": 120
        }
      ]
    },
    {
      "cell_type": "markdown",
      "source": [
        "**Выгрузим обновленные веса и сохраним их**"
      ],
      "metadata": {
        "id": "s_ibELMavroi"
      }
    },
    {
      "cell_type": "code",
      "source": [
        "df = weights[2]\n",
        "\n",
        "matrix_np = df\n",
        "\n",
        "matrix_np = np.array(matrix_np, dtype=str)"
      ],
      "metadata": {
        "id": "cSIsiwIBsu6R"
      },
      "execution_count": 121,
      "outputs": []
    },
    {
      "cell_type": "code",
      "source": [
        "matrix_np"
      ],
      "metadata": {
        "colab": {
          "base_uri": "https://localhost:8080/"
        },
        "id": "NWqH4iOBtqxI",
        "outputId": "59801a62-79a0-458d-f6e5-216d86edf8d5"
      },
      "execution_count": 122,
      "outputs": [
        {
          "output_type": "execute_result",
          "data": {
            "text/plain": [
              "array([['0.10468649', '-0.081670746', '0.07344901', ..., '0.05557896',\n",
              "        '0.1338575', '0.22942078'],\n",
              "       ['0.014354382', '-0.041609667', '-0.041388635', ...,\n",
              "        '-0.05875911', '0.0016989338', '0.062198486'],\n",
              "       ['-0.0047302768', '0.041193943', '0.027188689', ...,\n",
              "        '-0.24316633', '0.08096191', '0.07260458'],\n",
              "       ...,\n",
              "       ['0.097066596', '-0.1734803', '0.00029152347', ...,\n",
              "        '-0.026333898', '-0.15347934', '0.0036753858'],\n",
              "       ['0.07549351', '-0.1654294', '0.00022288229', ..., '-0.06765888',\n",
              "        '-0.057191283', '0.24299942'],\n",
              "       ['-0.09294891', '0.03210008', '0.09181444', ..., '0.107773',\n",
              "        '-0.022766842', '-0.14284895']], dtype='<U32')"
            ]
          },
          "metadata": {},
          "execution_count": 122
        }
      ]
    },
    {
      "cell_type": "code",
      "source": [
        "matrix_np = np.insert(matrix_np, 0, first_row, axis=0)\n",
        "matrix_np = np.insert(matrix_np, 0, first_column, axis=1)"
      ],
      "metadata": {
        "id": "ngU8zrF_rFFF"
      },
      "execution_count": 123,
      "outputs": []
    },
    {
      "cell_type": "code",
      "source": [
        "with open('modified_matrix.csv', 'w', newline='') as csvfile:\n",
        "    writer = csv.writer(csvfile, delimiter=';')\n",
        "    writer.writerows(matrix_np)"
      ],
      "metadata": {
        "id": "U0Zq4cCmr8V8"
      },
      "execution_count": 124,
      "outputs": []
    },
    {
      "cell_type": "markdown",
      "source": [
        "**Теперь можно адаптировать наш граф связей под приложение gelphi. Для этого запустите следующую ячейку**"
      ],
      "metadata": {
        "id": "4W9sqIRzv2NK"
      }
    },
    {
      "cell_type": "code",
      "source": [
        "import pandas as pd\n",
        "\n",
        "\n",
        "matrix = pd.read_csv('/content/modified_matrix.csv', sep = ';', header=None)\n",
        "\n",
        "\n",
        "source = []\n",
        "target = []\n",
        "weight = []\n",
        "color = []\n",
        "type_ = []\n",
        "\n",
        "for i in range(1, 118):\n",
        "    source.append(matrix.iloc[i, 0])\n",
        "    target.append(matrix.iloc[i, 0])\n",
        "    weight.append(1)\n",
        "    color.append(0)\n",
        "    type_.append('undirected')\n",
        "\n",
        "    for j in range(1, 118):\n",
        "        if i != j:\n",
        "            current_color = matrix.iloc[i, j]\n",
        "            if current_color >= 0.3:\n",
        "                source.append(matrix.iloc[i, 0])\n",
        "                target.append(matrix.iloc[0, j])\n",
        "                weight.append(1)\n",
        "                color.append(current_color)\n",
        "                type_.append('undirected')\n",
        "\n",
        "data = {\n",
        "    'Source': source,\n",
        "    'Target': target,\n",
        "    'Weight': weight,\n",
        "    'Color': color,\n",
        "    'Type': type_\n",
        "}\n",
        "table = pd.DataFrame(data)\n",
        "table['Target'] = table['Target'].astype(int)\n",
        "\n",
        "\n",
        "table.to_csv('Weights.csv', sep=';', index=False)"
      ],
      "metadata": {
        "id": "yBC8hg2Hpaun",
        "colab": {
          "base_uri": "https://localhost:8080/",
          "height": 408
        },
        "outputId": "6811c21e-8c95-47e3-f12b-299b9f14a9e1"
      },
      "execution_count": 128,
      "outputs": [
        {
          "output_type": "error",
          "ename": "FileNotFoundError",
          "evalue": "ignored",
          "traceback": [
            "\u001b[0;31m---------------------------------------------------------------------------\u001b[0m",
            "\u001b[0;31mFileNotFoundError\u001b[0m                         Traceback (most recent call last)",
            "\u001b[0;32m<ipython-input-128-e74f848a293e>\u001b[0m in \u001b[0;36m<cell line: 4>\u001b[0;34m()\u001b[0m\n\u001b[1;32m      2\u001b[0m \u001b[0;34m\u001b[0m\u001b[0m\n\u001b[1;32m      3\u001b[0m \u001b[0;34m\u001b[0m\u001b[0m\n\u001b[0;32m----> 4\u001b[0;31m \u001b[0mmatrix\u001b[0m \u001b[0;34m=\u001b[0m \u001b[0mpd\u001b[0m\u001b[0;34m.\u001b[0m\u001b[0mread_csv\u001b[0m\u001b[0;34m(\u001b[0m\u001b[0;34m'/content/modified_matrix.csv'\u001b[0m\u001b[0;34m,\u001b[0m \u001b[0msep\u001b[0m \u001b[0;34m=\u001b[0m \u001b[0;34m';'\u001b[0m\u001b[0;34m,\u001b[0m \u001b[0mheader\u001b[0m\u001b[0;34m=\u001b[0m\u001b[0;32mNone\u001b[0m\u001b[0;34m)\u001b[0m\u001b[0;34m\u001b[0m\u001b[0;34m\u001b[0m\u001b[0m\n\u001b[0m\u001b[1;32m      5\u001b[0m \u001b[0;34m\u001b[0m\u001b[0m\n\u001b[1;32m      6\u001b[0m \u001b[0;34m\u001b[0m\u001b[0m\n",
            "\u001b[0;32m/usr/local/lib/python3.10/dist-packages/pandas/util/_decorators.py\u001b[0m in \u001b[0;36mwrapper\u001b[0;34m(*args, **kwargs)\u001b[0m\n\u001b[1;32m    209\u001b[0m                 \u001b[0;32melse\u001b[0m\u001b[0;34m:\u001b[0m\u001b[0;34m\u001b[0m\u001b[0;34m\u001b[0m\u001b[0m\n\u001b[1;32m    210\u001b[0m                     \u001b[0mkwargs\u001b[0m\u001b[0;34m[\u001b[0m\u001b[0mnew_arg_name\u001b[0m\u001b[0;34m]\u001b[0m \u001b[0;34m=\u001b[0m \u001b[0mnew_arg_value\u001b[0m\u001b[0;34m\u001b[0m\u001b[0;34m\u001b[0m\u001b[0m\n\u001b[0;32m--> 211\u001b[0;31m             \u001b[0;32mreturn\u001b[0m \u001b[0mfunc\u001b[0m\u001b[0;34m(\u001b[0m\u001b[0;34m*\u001b[0m\u001b[0margs\u001b[0m\u001b[0;34m,\u001b[0m \u001b[0;34m**\u001b[0m\u001b[0mkwargs\u001b[0m\u001b[0;34m)\u001b[0m\u001b[0;34m\u001b[0m\u001b[0;34m\u001b[0m\u001b[0m\n\u001b[0m\u001b[1;32m    212\u001b[0m \u001b[0;34m\u001b[0m\u001b[0m\n\u001b[1;32m    213\u001b[0m         \u001b[0;32mreturn\u001b[0m \u001b[0mcast\u001b[0m\u001b[0;34m(\u001b[0m\u001b[0mF\u001b[0m\u001b[0;34m,\u001b[0m \u001b[0mwrapper\u001b[0m\u001b[0;34m)\u001b[0m\u001b[0;34m\u001b[0m\u001b[0;34m\u001b[0m\u001b[0m\n",
            "\u001b[0;32m/usr/local/lib/python3.10/dist-packages/pandas/util/_decorators.py\u001b[0m in \u001b[0;36mwrapper\u001b[0;34m(*args, **kwargs)\u001b[0m\n\u001b[1;32m    329\u001b[0m                     \u001b[0mstacklevel\u001b[0m\u001b[0;34m=\u001b[0m\u001b[0mfind_stack_level\u001b[0m\u001b[0;34m(\u001b[0m\u001b[0;34m)\u001b[0m\u001b[0;34m,\u001b[0m\u001b[0;34m\u001b[0m\u001b[0;34m\u001b[0m\u001b[0m\n\u001b[1;32m    330\u001b[0m                 )\n\u001b[0;32m--> 331\u001b[0;31m             \u001b[0;32mreturn\u001b[0m \u001b[0mfunc\u001b[0m\u001b[0;34m(\u001b[0m\u001b[0;34m*\u001b[0m\u001b[0margs\u001b[0m\u001b[0;34m,\u001b[0m \u001b[0;34m**\u001b[0m\u001b[0mkwargs\u001b[0m\u001b[0;34m)\u001b[0m\u001b[0;34m\u001b[0m\u001b[0;34m\u001b[0m\u001b[0m\n\u001b[0m\u001b[1;32m    332\u001b[0m \u001b[0;34m\u001b[0m\u001b[0m\n\u001b[1;32m    333\u001b[0m         \u001b[0;31m# error: \"Callable[[VarArg(Any), KwArg(Any)], Any]\" has no\u001b[0m\u001b[0;34m\u001b[0m\u001b[0;34m\u001b[0m\u001b[0m\n",
            "\u001b[0;32m/usr/local/lib/python3.10/dist-packages/pandas/io/parsers/readers.py\u001b[0m in \u001b[0;36mread_csv\u001b[0;34m(filepath_or_buffer, sep, delimiter, header, names, index_col, usecols, squeeze, prefix, mangle_dupe_cols, dtype, engine, converters, true_values, false_values, skipinitialspace, skiprows, skipfooter, nrows, na_values, keep_default_na, na_filter, verbose, skip_blank_lines, parse_dates, infer_datetime_format, keep_date_col, date_parser, dayfirst, cache_dates, iterator, chunksize, compression, thousands, decimal, lineterminator, quotechar, quoting, doublequote, escapechar, comment, encoding, encoding_errors, dialect, error_bad_lines, warn_bad_lines, on_bad_lines, delim_whitespace, low_memory, memory_map, float_precision, storage_options)\u001b[0m\n\u001b[1;32m    948\u001b[0m     \u001b[0mkwds\u001b[0m\u001b[0;34m.\u001b[0m\u001b[0mupdate\u001b[0m\u001b[0;34m(\u001b[0m\u001b[0mkwds_defaults\u001b[0m\u001b[0;34m)\u001b[0m\u001b[0;34m\u001b[0m\u001b[0;34m\u001b[0m\u001b[0m\n\u001b[1;32m    949\u001b[0m \u001b[0;34m\u001b[0m\u001b[0m\n\u001b[0;32m--> 950\u001b[0;31m     \u001b[0;32mreturn\u001b[0m \u001b[0m_read\u001b[0m\u001b[0;34m(\u001b[0m\u001b[0mfilepath_or_buffer\u001b[0m\u001b[0;34m,\u001b[0m \u001b[0mkwds\u001b[0m\u001b[0;34m)\u001b[0m\u001b[0;34m\u001b[0m\u001b[0;34m\u001b[0m\u001b[0m\n\u001b[0m\u001b[1;32m    951\u001b[0m \u001b[0;34m\u001b[0m\u001b[0m\n\u001b[1;32m    952\u001b[0m \u001b[0;34m\u001b[0m\u001b[0m\n",
            "\u001b[0;32m/usr/local/lib/python3.10/dist-packages/pandas/io/parsers/readers.py\u001b[0m in \u001b[0;36m_read\u001b[0;34m(filepath_or_buffer, kwds)\u001b[0m\n\u001b[1;32m    603\u001b[0m \u001b[0;34m\u001b[0m\u001b[0m\n\u001b[1;32m    604\u001b[0m     \u001b[0;31m# Create the parser.\u001b[0m\u001b[0;34m\u001b[0m\u001b[0;34m\u001b[0m\u001b[0m\n\u001b[0;32m--> 605\u001b[0;31m     \u001b[0mparser\u001b[0m \u001b[0;34m=\u001b[0m \u001b[0mTextFileReader\u001b[0m\u001b[0;34m(\u001b[0m\u001b[0mfilepath_or_buffer\u001b[0m\u001b[0;34m,\u001b[0m \u001b[0;34m**\u001b[0m\u001b[0mkwds\u001b[0m\u001b[0;34m)\u001b[0m\u001b[0;34m\u001b[0m\u001b[0;34m\u001b[0m\u001b[0m\n\u001b[0m\u001b[1;32m    606\u001b[0m \u001b[0;34m\u001b[0m\u001b[0m\n\u001b[1;32m    607\u001b[0m     \u001b[0;32mif\u001b[0m \u001b[0mchunksize\u001b[0m \u001b[0;32mor\u001b[0m \u001b[0miterator\u001b[0m\u001b[0;34m:\u001b[0m\u001b[0;34m\u001b[0m\u001b[0;34m\u001b[0m\u001b[0m\n",
            "\u001b[0;32m/usr/local/lib/python3.10/dist-packages/pandas/io/parsers/readers.py\u001b[0m in \u001b[0;36m__init__\u001b[0;34m(self, f, engine, **kwds)\u001b[0m\n\u001b[1;32m   1440\u001b[0m \u001b[0;34m\u001b[0m\u001b[0m\n\u001b[1;32m   1441\u001b[0m         \u001b[0mself\u001b[0m\u001b[0;34m.\u001b[0m\u001b[0mhandles\u001b[0m\u001b[0;34m:\u001b[0m \u001b[0mIOHandles\u001b[0m \u001b[0;34m|\u001b[0m \u001b[0;32mNone\u001b[0m \u001b[0;34m=\u001b[0m \u001b[0;32mNone\u001b[0m\u001b[0;34m\u001b[0m\u001b[0;34m\u001b[0m\u001b[0m\n\u001b[0;32m-> 1442\u001b[0;31m         \u001b[0mself\u001b[0m\u001b[0;34m.\u001b[0m\u001b[0m_engine\u001b[0m \u001b[0;34m=\u001b[0m \u001b[0mself\u001b[0m\u001b[0;34m.\u001b[0m\u001b[0m_make_engine\u001b[0m\u001b[0;34m(\u001b[0m\u001b[0mf\u001b[0m\u001b[0;34m,\u001b[0m \u001b[0mself\u001b[0m\u001b[0;34m.\u001b[0m\u001b[0mengine\u001b[0m\u001b[0;34m)\u001b[0m\u001b[0;34m\u001b[0m\u001b[0;34m\u001b[0m\u001b[0m\n\u001b[0m\u001b[1;32m   1443\u001b[0m \u001b[0;34m\u001b[0m\u001b[0m\n\u001b[1;32m   1444\u001b[0m     \u001b[0;32mdef\u001b[0m \u001b[0mclose\u001b[0m\u001b[0;34m(\u001b[0m\u001b[0mself\u001b[0m\u001b[0;34m)\u001b[0m \u001b[0;34m->\u001b[0m \u001b[0;32mNone\u001b[0m\u001b[0;34m:\u001b[0m\u001b[0;34m\u001b[0m\u001b[0;34m\u001b[0m\u001b[0m\n",
            "\u001b[0;32m/usr/local/lib/python3.10/dist-packages/pandas/io/parsers/readers.py\u001b[0m in \u001b[0;36m_make_engine\u001b[0;34m(self, f, engine)\u001b[0m\n\u001b[1;32m   1733\u001b[0m                 \u001b[0;32mif\u001b[0m \u001b[0;34m\"b\"\u001b[0m \u001b[0;32mnot\u001b[0m \u001b[0;32min\u001b[0m \u001b[0mmode\u001b[0m\u001b[0;34m:\u001b[0m\u001b[0;34m\u001b[0m\u001b[0;34m\u001b[0m\u001b[0m\n\u001b[1;32m   1734\u001b[0m                     \u001b[0mmode\u001b[0m \u001b[0;34m+=\u001b[0m \u001b[0;34m\"b\"\u001b[0m\u001b[0;34m\u001b[0m\u001b[0;34m\u001b[0m\u001b[0m\n\u001b[0;32m-> 1735\u001b[0;31m             self.handles = get_handle(\n\u001b[0m\u001b[1;32m   1736\u001b[0m                 \u001b[0mf\u001b[0m\u001b[0;34m,\u001b[0m\u001b[0;34m\u001b[0m\u001b[0;34m\u001b[0m\u001b[0m\n\u001b[1;32m   1737\u001b[0m                 \u001b[0mmode\u001b[0m\u001b[0;34m,\u001b[0m\u001b[0;34m\u001b[0m\u001b[0;34m\u001b[0m\u001b[0m\n",
            "\u001b[0;32m/usr/local/lib/python3.10/dist-packages/pandas/io/common.py\u001b[0m in \u001b[0;36mget_handle\u001b[0;34m(path_or_buf, mode, encoding, compression, memory_map, is_text, errors, storage_options)\u001b[0m\n\u001b[1;32m    854\u001b[0m         \u001b[0;32mif\u001b[0m \u001b[0mioargs\u001b[0m\u001b[0;34m.\u001b[0m\u001b[0mencoding\u001b[0m \u001b[0;32mand\u001b[0m \u001b[0;34m\"b\"\u001b[0m \u001b[0;32mnot\u001b[0m \u001b[0;32min\u001b[0m \u001b[0mioargs\u001b[0m\u001b[0;34m.\u001b[0m\u001b[0mmode\u001b[0m\u001b[0;34m:\u001b[0m\u001b[0;34m\u001b[0m\u001b[0;34m\u001b[0m\u001b[0m\n\u001b[1;32m    855\u001b[0m             \u001b[0;31m# Encoding\u001b[0m\u001b[0;34m\u001b[0m\u001b[0;34m\u001b[0m\u001b[0m\n\u001b[0;32m--> 856\u001b[0;31m             handle = open(\n\u001b[0m\u001b[1;32m    857\u001b[0m                 \u001b[0mhandle\u001b[0m\u001b[0;34m,\u001b[0m\u001b[0;34m\u001b[0m\u001b[0;34m\u001b[0m\u001b[0m\n\u001b[1;32m    858\u001b[0m                 \u001b[0mioargs\u001b[0m\u001b[0;34m.\u001b[0m\u001b[0mmode\u001b[0m\u001b[0;34m,\u001b[0m\u001b[0;34m\u001b[0m\u001b[0;34m\u001b[0m\u001b[0m\n",
            "\u001b[0;31mFileNotFoundError\u001b[0m: [Errno 2] No such file or directory: '/content/modified_matrix.csv'"
          ]
        }
      ]
    }
  ]
}